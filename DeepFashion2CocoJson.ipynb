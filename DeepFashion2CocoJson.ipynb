{
  "nbformat": 4,
  "nbformat_minor": 0,
  "metadata": {
    "colab": {
      "name": "DeepFashion2CocoJson.ipynb",
      "provenance": [],
      "collapsed_sections": [],
      "mount_file_id": "1RwvY25pqF-8VGAxEiqGvuZY0_KcTcNjt",
      "authorship_tag": "ABX9TyMu6SaDXRxzCEHexoSIXTDN",
      "include_colab_link": true
    },
    "kernelspec": {
      "name": "python3",
      "display_name": "Python 3"
    },
    "language_info": {
      "name": "python"
    }
  },
  "cells": [
    {
      "cell_type": "markdown",
      "metadata": {
        "id": "view-in-github",
        "colab_type": "text"
      },
      "source": [
        "<a href=\"https://colab.research.google.com/github/snvssk/data255/blob/main/DeepFashion2CocoJson.ipynb\" target=\"_parent\"><img src=\"https://colab.research.google.com/assets/colab-badge.svg\" alt=\"Open In Colab\"/></a>"
      ]
    },
    {
      "cell_type": "code",
      "execution_count": null,
      "metadata": {
        "id": "TKJXZs6Z7Ms3"
      },
      "outputs": [],
      "source": [
        "import os"
      ]
    },
    {
      "cell_type": "code",
      "source": [
        "base_path = '/content/train/' #'/content/drive/Shareddrives/DATA-255/DeepFashion2/train/annos' "
      ],
      "metadata": {
        "id": "mWxqYI2c7ifp"
      },
      "execution_count": null,
      "outputs": []
    },
    {
      "cell_type": "code",
      "source": [
        "#!unzip -P 2019Deepfashion2** /content/drive/Shareddrives/DATA-255/DeepFashion2/train.zip "
      ],
      "metadata": {
        "id": "C0LwilCrTe8q"
      },
      "execution_count": null,
      "outputs": []
    },
    {
      "cell_type": "code",
      "source": [
        "\n",
        "label_json ={}\n",
        "\n",
        "label_json['info'] = {\n",
        "                      \"year\": \"2021\",\n",
        "                      \"version\": \"1.0\",\n",
        "                      \"description\": \"Exported from DeepFashion2\",\n",
        "                      \"contributor\": \"DeepFashion2\",\n",
        "                      \"url\": \"https://fiftyone.ai\",\n",
        "                      \"date_created\": \"2022-05-01T09:48:27\"\n",
        "                      }\n",
        "  \n",
        "label_json[\"licenses\"] = [{ \"url\": \"http://creativecommons.org/licenses/by-nc-sa/2.0/\",\n",
        "                          \"id\": 1,\n",
        "                          \"name\": \"Attribution-NonCommercial-ShareAlike License\"\n",
        "                          }]\n",
        "\n",
        "\n"
      ],
      "metadata": {
        "id": "14fdluGk7UBs"
      },
      "execution_count": null,
      "outputs": []
    },
    {
      "cell_type": "code",
      "source": [
        "import json\n",
        "from pathlib import Path\n",
        "import cv2\n",
        "\n",
        "label_json[\"categories\"]= []\n",
        "label_json[\"images\"] = []\n",
        "label_json[\"annotations\"] = []\n",
        "\n",
        "\n",
        "categorys = []\n",
        "image_id =1 \n",
        "\n",
        "i=1700\n",
        "for filename in os.listdir(base_path+'annos/'):\n",
        "  \n",
        "  f = os.path.join(base_path+'annos/',filename)\n",
        "  #print(f)\n",
        "  if os.path.isfile(f):\n",
        "    #print(f)\n",
        "    label_file_json = open(f)\n",
        "    data = json.load(label_file_json)\n",
        "    \n",
        "    #print(data)\n",
        "    \n",
        "\n",
        "    #Get image info\n",
        "    file_id = int(Path(f).name.replace('.json',''))\n",
        "    if(file_id<1000 or file_id>2000):\n",
        "      continue\n",
        "    image_filename = Path(f).name.replace('.json','.jpg')\n",
        "    #print(image_filename)\n",
        "    \n",
        "    im = cv2.imread(base_path+'/image/'+image_filename)\n",
        "    h, w, c = im.shape\n",
        "\n",
        "    #Create image Json\n",
        "    converted_image_json = {}\n",
        "    converted_image_json['id'] = image_id\n",
        "    converted_image_json[\"license\"] = 1\n",
        "    converted_image_json[\"file_name\"] = image_filename\n",
        "    converted_image_json[\"height\"] =  h\n",
        "    converted_image_json[\"width\"] =  w\n",
        "    converted_image_json[\"channels\"] = c\n",
        "    converted_image_json[\"date_captured\"] = \"2022-05-01T09:48:27\"\n",
        "    \n",
        "    for items in data:\n",
        "      converted_annotatoin = {}\n",
        "      #print(items + \"=>\" )\n",
        "      #print(data[items])\n",
        "      if(items=='source' or items=='pair_id'):\n",
        "        converted_image_json[items] = data[items]\n",
        "        continue\n",
        "      \n",
        "      item_json = data[items]\n",
        "      #print(item_json)\n",
        "      #print(i)\n",
        "      converted_annotatoin['id'] = i\n",
        "      converted_annotatoin['area'] = 45969\n",
        "      converted_annotatoin['image_id'] = image_id\n",
        "      converted_annotatoin['category_id'] = item_json['category_id']\n",
        "      converted_annotatoin['scale'] = item_json['scale']\n",
        "      converted_annotatoin['viewpoint'] = item_json['viewpoint']\n",
        "      converted_annotatoin['zoom_in'] = item_json['zoom_in']\n",
        "      converted_annotatoin['iscrowd'] = 0\n",
        "      converted_annotatoin['bbox'] = item_json['bounding_box']\n",
        "      converted_annotatoin['occlusion'] = item_json['occlusion']\n",
        "      converted_annotatoin['segmentation'] = item_json['segmentation']\n",
        "      \n",
        "      if(item_json['category_id'] not in categorys):\n",
        "        categorys.append(item_json['category_id'])\n",
        "        label_json[\"categories\"].append({\"id\": item_json['category_id'] ,\"name\": item_json['category_name']})\n",
        "\n",
        "      label_json[\"annotations\"].append(converted_annotatoin)\n",
        "      \n",
        "      i=i+1\n",
        "    label_json[\"images\"].append(converted_image_json)    \n",
        "    label_file_json.close\n",
        "    image_id=image_id+1\n",
        "  if(image_id>2000):\n",
        "    break\n",
        "print(\"Writing to file\")\n",
        "#print(label_json)\n",
        "\n",
        "final_json_file = open('/content/drive/Shareddrives/DATA-255/DeepFashion2/deep_fashion_labels_1001_2000.json','w+')\n",
        "\n",
        "woutput=final_json_file.write(json.dumps(label_json))\n",
        "\n",
        "\n",
        "    \n",
        "final_json_file.close"
      ],
      "metadata": {
        "colab": {
          "base_uri": "https://localhost:8080/"
        },
        "id": "e3HHdJjWNo_M",
        "outputId": "ae81183c-de0e-4d5e-ca38-46fd69e6a8cd"
      },
      "execution_count": null,
      "outputs": [
        {
          "output_type": "stream",
          "name": "stdout",
          "text": [
            "Writing to file\n"
          ]
        },
        {
          "output_type": "execute_result",
          "data": {
            "text/plain": [
              "<function TextIOWrapper.close>"
            ]
          },
          "metadata": {},
          "execution_count": 7
        }
      ]
    },
    {
      "cell_type": "code",
      "source": [
        "woutput"
      ],
      "metadata": {
        "colab": {
          "base_uri": "https://localhost:8080/"
        },
        "id": "Ex0OVHNGa9Fi",
        "outputId": "2791447b-6123-49c0-df87-b1cb141c4fc0"
      },
      "execution_count": null,
      "outputs": [
        {
          "output_type": "execute_result",
          "data": {
            "text/plain": [
              "35309"
            ]
          },
          "metadata": {},
          "execution_count": 24
        }
      ]
    },
    {
      "cell_type": "code",
      "source": [
        ""
      ],
      "metadata": {
        "id": "7qIHBfaT6CYK"
      },
      "execution_count": null,
      "outputs": []
    }
  ]
}